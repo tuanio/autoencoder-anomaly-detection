{
  "nbformat": 4,
  "nbformat_minor": 0,
  "metadata": {
    "colab": {
      "name": "Autoencoder_AnomalyDetector_NSLKDD.ipynb",
      "provenance": [],
      "collapsed_sections": []
    },
    "kernelspec": {
      "name": "python3",
      "display_name": "Python 3"
    },
    "language_info": {
      "name": "python"
    },
    "accelerator": "GPU"
  },
  "cells": [
    {
      "cell_type": "code",
      "source": [
        "!git clone https://github.com/jmnwong/NSL-KDD-Dataset.git"
      ],
      "metadata": {
        "colab": {
          "base_uri": "https://localhost:8080/"
        },
        "id": "5qLPkrHvKDjH",
        "outputId": "72f63f0e-0481-4258-dde3-f2a8c1cea7d9"
      },
      "execution_count": 1,
      "outputs": [
        {
          "output_type": "stream",
          "name": "stdout",
          "text": [
            "fatal: destination path 'NSL-KDD-Dataset' already exists and is not an empty directory.\n"
          ]
        }
      ]
    },
    {
      "cell_type": "code",
      "execution_count": 2,
      "metadata": {
        "id": "RLrF9Cmx1jFw"
      },
      "outputs": [],
      "source": [
        "import tensorflow as tf\n",
        "from tensorflow import keras\n",
        "import pandas as pd\n",
        "import numpy as np\n",
        "import matplotlib.pyplot as plt\n",
        "import seaborn as sns\n",
        "from sklearn.metrics import accuracy_score\n",
        "from sklearn.preprocessing import OneHotEncoder, MinMaxScaler"
      ]
    },
    {
      "cell_type": "code",
      "source": [
        "random_state = 12\n",
        "tf.random.set_seed(random_state)\n",
        "np.random.seed(random_state)"
      ],
      "metadata": {
        "id": "nINye8NcqeGb"
      },
      "execution_count": 3,
      "outputs": []
    },
    {
      "cell_type": "code",
      "source": [
        "train = pd.read_csv('NSL-KDD-Dataset/KDDTrain+.txt', header=None)\n",
        "test = pd.read_csv('NSL-KDD-Dataset/KDDTest+.txt', header=None)"
      ],
      "metadata": {
        "id": "ovwCN2WxKFEm"
      },
      "execution_count": 4,
      "outputs": []
    },
    {
      "cell_type": "code",
      "source": [
        "encoder = OneHotEncoder(handle_unknown='ignore')\n",
        "scaler = MinMaxScaler()"
      ],
      "metadata": {
        "id": "v4PIPQ42X0Xz"
      },
      "execution_count": 5,
      "outputs": []
    },
    {
      "cell_type": "code",
      "source": [
        "def preprocess(df, is_fit=True):\n",
        "  # chuyển normal thành 1 và các lớp khác thành 0\n",
        "  label = np.where(df[41] == 'normal', 'normal', 'abnormal')\n",
        "\n",
        "  # loại bỏ cột dữ liệu không cần thiết\n",
        "  df.drop([41, 42], axis=1)\n",
        "\n",
        "  # chia dữ liệu ra số, chữ để tiện xử lý\n",
        "  numerical_data = df.select_dtypes(exclude='object').values\n",
        "  categorical_data = df.select_dtypes(include='object').values\n",
        "\n",
        "  # chỉ fit với dữ liệu train\n",
        "  if is_fit:\n",
        "    encoder.fit(categorical_data)\n",
        "\n",
        "  # chuyển từ dữ liệu chữ sang onehot\n",
        "  categorical_data = encoder.transform(categorical_data).toarray()\n",
        "\n",
        "  # nối dữ liệu số và onehot lại\n",
        "  data = np.concatenate([numerical_data, categorical_data], axis=1)\n",
        "\n",
        "  # chỉ fit với dữ liệu train\n",
        "  if is_fit:\n",
        "    scaler.fit(data)\n",
        "  \n",
        "  # dữ liệu chuẩn hóa về dạng [0, 1]\n",
        "  data = scaler.transform(data)\n",
        "  \n",
        "  return dict(data=data, label=label)"
      ],
      "metadata": {
        "id": "xaC2cxjBXEdi"
      },
      "execution_count": 6,
      "outputs": []
    },
    {
      "cell_type": "code",
      "source": [
        "# xử lý dữ liệu\n",
        "train = preprocess(train, True)\n",
        "test = preprocess(test, False)"
      ],
      "metadata": {
        "id": "fm670tUzZt5J"
      },
      "execution_count": 7,
      "outputs": []
    },
    {
      "cell_type": "code",
      "source": [
        "class Autoencoder(keras.Model):\n",
        "  def __init__(self, input_dim):\n",
        "    super(Autoencoder, self).__init__()\n",
        "    self.encoder = keras.Sequential([\n",
        "      keras.layers.Dense(64, activation='tanh'),\n",
        "      keras.layers.Dense(32, activation='tanh'),\n",
        "      keras.layers.Dense(16, activation='tanh'),\n",
        "      keras.layers.Dense(8, activation='tanh')\n",
        "    ])\n",
        "    self.decoder = keras.Sequential([\n",
        "      keras.layers.Dense(16, activation='tanh'),\n",
        "      keras.layers.Dense(32, activation='tanh'),\n",
        "      keras.layers.Dense(64, activation='tanh'),\n",
        "      keras.layers.Dense(input_dim, activation='sigmoid'),\n",
        "    ])\n",
        "\n",
        "  def call(self, x):\n",
        "    code = self.encoder(x)\n",
        "    r = self.decoder(code)\n",
        "    return r\n",
        "\n",
        "  def get_reconstruction_error(self, x):\n",
        "    r = self.predict(x)\n",
        "    return keras.metrics.mean_squared_error(x, r)\n",
        "\n",
        "  def predict_class(self, x, threshold):\n",
        "    reconstruction_error = self.get_reconstruction_error(x)\n",
        "    return np.where(reconstruction_error <= threshold, 'normal', 'abnormal')"
      ],
      "metadata": {
        "id": "Vh6U-Zl71sTY"
      },
      "execution_count": 8,
      "outputs": []
    },
    {
      "cell_type": "code",
      "source": [
        "# chia dữ liệu\n",
        "train_normal = train['data'][train['label'] == 'normal']\n",
        "train_abnormal = train['data'][train['label'] == 'abnormal']\n",
        "\n",
        "test_normal = test['data'][test['label'] == 'normal']\n",
        "test_abnormal = test['data'][test['label'] == 'abnormal']"
      ],
      "metadata": {
        "id": "MpQfZnE1cgYx"
      },
      "execution_count": 9,
      "outputs": []
    },
    {
      "cell_type": "code",
      "source": [
        "model = Autoencoder(train_normal.shape[1])\n",
        "optimizer = keras.optimizers.Adam()\n",
        "loss_fn = keras.losses.MeanSquaredError()\n",
        "model.compile(optimizer, loss_fn)"
      ],
      "metadata": {
        "id": "h-luspLnbHgk"
      },
      "execution_count": 10,
      "outputs": []
    },
    {
      "cell_type": "code",
      "source": [
        "model.fit(train_normal, train_normal, batch_size=64, epochs=100)"
      ],
      "metadata": {
        "colab": {
          "base_uri": "https://localhost:8080/"
        },
        "id": "Ljt-CSCRedH-",
        "outputId": "609f5444-6561-4952-d5a3-bec1afb8d9a8"
      },
      "execution_count": 11,
      "outputs": [
        {
          "output_type": "stream",
          "name": "stdout",
          "text": [
            "Epoch 1/100\n",
            "1053/1053 [==============================] - 4s 3ms/step - loss: 0.0165\n",
            "Epoch 2/100\n",
            "1053/1053 [==============================] - 3s 3ms/step - loss: 0.0041\n",
            "Epoch 3/100\n",
            "1053/1053 [==============================] - 3s 3ms/step - loss: 0.0032\n",
            "Epoch 4/100\n",
            "1053/1053 [==============================] - 3s 3ms/step - loss: 0.0025\n",
            "Epoch 5/100\n",
            "1053/1053 [==============================] - 3s 3ms/step - loss: 0.0019\n",
            "Epoch 6/100\n",
            "1053/1053 [==============================] - 3s 3ms/step - loss: 0.0015\n",
            "Epoch 7/100\n",
            "1053/1053 [==============================] - 3s 3ms/step - loss: 0.0013\n",
            "Epoch 8/100\n",
            "1053/1053 [==============================] - 3s 3ms/step - loss: 0.0011\n",
            "Epoch 9/100\n",
            "1053/1053 [==============================] - 3s 3ms/step - loss: 0.0010\n",
            "Epoch 10/100\n",
            "1053/1053 [==============================] - 3s 3ms/step - loss: 9.3097e-04\n",
            "Epoch 11/100\n",
            "1053/1053 [==============================] - 3s 3ms/step - loss: 8.6551e-04\n",
            "Epoch 12/100\n",
            "1053/1053 [==============================] - 3s 3ms/step - loss: 7.7344e-04\n",
            "Epoch 13/100\n",
            "1053/1053 [==============================] - 3s 3ms/step - loss: 6.8522e-04\n",
            "Epoch 14/100\n",
            "1053/1053 [==============================] - 3s 3ms/step - loss: 6.3783e-04\n",
            "Epoch 15/100\n",
            "1053/1053 [==============================] - 3s 3ms/step - loss: 5.9063e-04\n",
            "Epoch 16/100\n",
            "1053/1053 [==============================] - 3s 3ms/step - loss: 5.6233e-04\n",
            "Epoch 17/100\n",
            "1053/1053 [==============================] - 3s 3ms/step - loss: 5.4297e-04\n",
            "Epoch 18/100\n",
            "1053/1053 [==============================] - 3s 3ms/step - loss: 5.2335e-04\n",
            "Epoch 19/100\n",
            "1053/1053 [==============================] - 3s 3ms/step - loss: 5.0217e-04\n",
            "Epoch 20/100\n",
            "1053/1053 [==============================] - 3s 3ms/step - loss: 4.9518e-04\n",
            "Epoch 21/100\n",
            "1053/1053 [==============================] - 3s 3ms/step - loss: 4.8139e-04\n",
            "Epoch 22/100\n",
            "1053/1053 [==============================] - 3s 3ms/step - loss: 4.6964e-04\n",
            "Epoch 23/100\n",
            "1053/1053 [==============================] - 3s 3ms/step - loss: 4.6025e-04\n",
            "Epoch 24/100\n",
            "1053/1053 [==============================] - 3s 3ms/step - loss: 4.5124e-04\n",
            "Epoch 25/100\n",
            "1053/1053 [==============================] - 3s 3ms/step - loss: 4.3686e-04\n",
            "Epoch 26/100\n",
            "1053/1053 [==============================] - 3s 3ms/step - loss: 4.3468e-04\n",
            "Epoch 27/100\n",
            "1053/1053 [==============================] - 3s 3ms/step - loss: 4.2202e-04\n",
            "Epoch 28/100\n",
            "1053/1053 [==============================] - 3s 3ms/step - loss: 4.1893e-04\n",
            "Epoch 29/100\n",
            "1053/1053 [==============================] - 3s 3ms/step - loss: 4.0578e-04\n",
            "Epoch 30/100\n",
            "1053/1053 [==============================] - 3s 3ms/step - loss: 3.9940e-04\n",
            "Epoch 31/100\n",
            "1053/1053 [==============================] - 3s 3ms/step - loss: 3.9999e-04\n",
            "Epoch 32/100\n",
            "1053/1053 [==============================] - 3s 3ms/step - loss: 3.8862e-04\n",
            "Epoch 33/100\n",
            "1053/1053 [==============================] - 3s 3ms/step - loss: 3.8735e-04\n",
            "Epoch 34/100\n",
            "1053/1053 [==============================] - 3s 3ms/step - loss: 3.7863e-04\n",
            "Epoch 35/100\n",
            "1053/1053 [==============================] - 3s 3ms/step - loss: 3.7623e-04\n",
            "Epoch 36/100\n",
            "1053/1053 [==============================] - 3s 3ms/step - loss: 3.6809e-04\n",
            "Epoch 37/100\n",
            "1053/1053 [==============================] - 3s 3ms/step - loss: 3.6550e-04\n",
            "Epoch 38/100\n",
            "1053/1053 [==============================] - 3s 3ms/step - loss: 3.5834e-04\n",
            "Epoch 39/100\n",
            "1053/1053 [==============================] - 3s 3ms/step - loss: 3.5575e-04\n",
            "Epoch 40/100\n",
            "1053/1053 [==============================] - 3s 3ms/step - loss: 3.4704e-04\n",
            "Epoch 41/100\n",
            "1053/1053 [==============================] - 3s 3ms/step - loss: 3.4037e-04\n",
            "Epoch 42/100\n",
            "1053/1053 [==============================] - 3s 3ms/step - loss: 3.4077e-04\n",
            "Epoch 43/100\n",
            "1053/1053 [==============================] - 3s 3ms/step - loss: 3.3425e-04\n",
            "Epoch 44/100\n",
            "1053/1053 [==============================] - 3s 3ms/step - loss: 3.3215e-04\n",
            "Epoch 45/100\n",
            "1053/1053 [==============================] - 3s 3ms/step - loss: 3.2909e-04\n",
            "Epoch 46/100\n",
            "1053/1053 [==============================] - 3s 3ms/step - loss: 3.2647e-04\n",
            "Epoch 47/100\n",
            "1053/1053 [==============================] - 3s 3ms/step - loss: 3.2836e-04\n",
            "Epoch 48/100\n",
            "1053/1053 [==============================] - 3s 3ms/step - loss: 3.2690e-04\n",
            "Epoch 49/100\n",
            "1053/1053 [==============================] - 3s 3ms/step - loss: 3.1926e-04\n",
            "Epoch 50/100\n",
            "1053/1053 [==============================] - 3s 3ms/step - loss: 3.2749e-04\n",
            "Epoch 51/100\n",
            "1053/1053 [==============================] - 3s 3ms/step - loss: 3.1508e-04\n",
            "Epoch 52/100\n",
            "1053/1053 [==============================] - 3s 3ms/step - loss: 3.1502e-04\n",
            "Epoch 53/100\n",
            "1053/1053 [==============================] - 3s 3ms/step - loss: 3.1509e-04\n",
            "Epoch 54/100\n",
            "1053/1053 [==============================] - 3s 3ms/step - loss: 3.1210e-04\n",
            "Epoch 55/100\n",
            "1053/1053 [==============================] - 3s 3ms/step - loss: 3.0559e-04\n",
            "Epoch 56/100\n",
            "1053/1053 [==============================] - 3s 3ms/step - loss: 3.0834e-04\n",
            "Epoch 57/100\n",
            "1053/1053 [==============================] - 3s 3ms/step - loss: 3.0463e-04\n",
            "Epoch 58/100\n",
            "1053/1053 [==============================] - 3s 3ms/step - loss: 3.0791e-04\n",
            "Epoch 59/100\n",
            "1053/1053 [==============================] - 3s 3ms/step - loss: 3.0358e-04\n",
            "Epoch 60/100\n",
            "1053/1053 [==============================] - 3s 3ms/step - loss: 2.9975e-04\n",
            "Epoch 61/100\n",
            "1053/1053 [==============================] - 3s 3ms/step - loss: 3.0076e-04\n",
            "Epoch 62/100\n",
            "1053/1053 [==============================] - 3s 3ms/step - loss: 3.0073e-04\n",
            "Epoch 63/100\n",
            "1053/1053 [==============================] - 3s 3ms/step - loss: 2.9488e-04\n",
            "Epoch 64/100\n",
            "1053/1053 [==============================] - 3s 3ms/step - loss: 2.9409e-04\n",
            "Epoch 65/100\n",
            "1053/1053 [==============================] - 3s 3ms/step - loss: 2.9484e-04\n",
            "Epoch 66/100\n",
            "1053/1053 [==============================] - 3s 3ms/step - loss: 2.9614e-04\n",
            "Epoch 67/100\n",
            "1053/1053 [==============================] - 3s 3ms/step - loss: 2.9324e-04\n",
            "Epoch 68/100\n",
            "1053/1053 [==============================] - 3s 3ms/step - loss: 2.9140e-04\n",
            "Epoch 69/100\n",
            "1053/1053 [==============================] - 3s 3ms/step - loss: 2.8885e-04\n",
            "Epoch 70/100\n",
            "1053/1053 [==============================] - 3s 3ms/step - loss: 2.8881e-04\n",
            "Epoch 71/100\n",
            "1053/1053 [==============================] - 3s 3ms/step - loss: 2.8809e-04\n",
            "Epoch 72/100\n",
            "1053/1053 [==============================] - 3s 3ms/step - loss: 2.7902e-04\n",
            "Epoch 73/100\n",
            "1053/1053 [==============================] - 3s 3ms/step - loss: 2.8415e-04\n",
            "Epoch 74/100\n",
            "1053/1053 [==============================] - 3s 3ms/step - loss: 2.7904e-04\n",
            "Epoch 75/100\n",
            "1053/1053 [==============================] - 3s 3ms/step - loss: 2.8650e-04\n",
            "Epoch 76/100\n",
            "1053/1053 [==============================] - 3s 3ms/step - loss: 2.7754e-04\n",
            "Epoch 77/100\n",
            "1053/1053 [==============================] - 3s 3ms/step - loss: 2.8532e-04\n",
            "Epoch 78/100\n",
            "1053/1053 [==============================] - 3s 3ms/step - loss: 2.7740e-04\n",
            "Epoch 79/100\n",
            "1053/1053 [==============================] - 3s 3ms/step - loss: 2.7583e-04\n",
            "Epoch 80/100\n",
            "1053/1053 [==============================] - 3s 3ms/step - loss: 2.7451e-04\n",
            "Epoch 81/100\n",
            "1053/1053 [==============================] - 3s 3ms/step - loss: 2.8781e-04\n",
            "Epoch 82/100\n",
            "1053/1053 [==============================] - 3s 3ms/step - loss: 2.7484e-04\n",
            "Epoch 83/100\n",
            "1053/1053 [==============================] - 3s 3ms/step - loss: 2.7495e-04\n",
            "Epoch 84/100\n",
            "1053/1053 [==============================] - 3s 3ms/step - loss: 2.7025e-04\n",
            "Epoch 85/100\n",
            "1053/1053 [==============================] - 3s 3ms/step - loss: 2.7742e-04\n",
            "Epoch 86/100\n",
            "1053/1053 [==============================] - 3s 3ms/step - loss: 2.7149e-04\n",
            "Epoch 87/100\n",
            "1053/1053 [==============================] - 3s 3ms/step - loss: 2.7502e-04\n",
            "Epoch 88/100\n",
            "1053/1053 [==============================] - 3s 3ms/step - loss: 2.6870e-04\n",
            "Epoch 89/100\n",
            "1053/1053 [==============================] - 3s 3ms/step - loss: 2.7008e-04\n",
            "Epoch 90/100\n",
            "1053/1053 [==============================] - 3s 3ms/step - loss: 2.7448e-04\n",
            "Epoch 91/100\n",
            "1053/1053 [==============================] - 3s 3ms/step - loss: 2.6868e-04\n",
            "Epoch 92/100\n",
            "1053/1053 [==============================] - 3s 3ms/step - loss: 2.6913e-04\n",
            "Epoch 93/100\n",
            "1053/1053 [==============================] - 3s 3ms/step - loss: 2.7196e-04\n",
            "Epoch 94/100\n",
            "1053/1053 [==============================] - 3s 3ms/step - loss: 2.6296e-04\n",
            "Epoch 95/100\n",
            "1053/1053 [==============================] - 3s 3ms/step - loss: 2.5945e-04\n",
            "Epoch 96/100\n",
            "1053/1053 [==============================] - 3s 3ms/step - loss: 2.4485e-04\n",
            "Epoch 97/100\n",
            "1053/1053 [==============================] - 3s 3ms/step - loss: 2.4107e-04\n",
            "Epoch 98/100\n",
            "1053/1053 [==============================] - 3s 3ms/step - loss: 2.4661e-04\n",
            "Epoch 99/100\n",
            "1053/1053 [==============================] - 3s 3ms/step - loss: 2.4877e-04\n",
            "Epoch 100/100\n",
            "1053/1053 [==============================] - 3s 3ms/step - loss: 2.3761e-04\n"
          ]
        },
        {
          "output_type": "execute_result",
          "data": {
            "text/plain": [
              "<keras.callbacks.History at 0x7f445a6cded0>"
            ]
          },
          "metadata": {},
          "execution_count": 11
        }
      ]
    },
    {
      "cell_type": "code",
      "source": [
        "# tính độ lỗi tái tạo cho tất cả các tập dữ liệu\n",
        "\n",
        "train_normal_re = model.get_reconstruction_error(train_normal)\n",
        "train_abnormal_re = model.get_reconstruction_error(train_abnormal)\n",
        "\n",
        "test_normal_re = model.get_reconstruction_error(test_normal)\n",
        "test_abnormal_re = model.get_reconstruction_error(test_abnormal)"
      ],
      "metadata": {
        "id": "AK2VAuQQgNHT"
      },
      "execution_count": 12,
      "outputs": []
    },
    {
      "cell_type": "code",
      "source": [
        "# tìm ngưỡng alpha từ tập train\n",
        "alpha = 0.5\n",
        "threshold = np.concatenate([train_normal_re, train_abnormal_re]).mean() * alpha\n",
        "print('Ngưỡng vừa tìm được từ tập train:', threshold)"
      ],
      "metadata": {
        "colab": {
          "base_uri": "https://localhost:8080/"
        },
        "id": "9mujXeMIoO3L",
        "outputId": "fd501a3f-1894-4568-928a-b93de7223520"
      },
      "execution_count": 24,
      "outputs": [
        {
          "output_type": "stream",
          "name": "stdout",
          "text": [
            "Ngưỡng vừa tìm được từ tập train: "
          ]
        },
        {
          "output_type": "execute_result",
          "data": {
            "text/plain": [
              "0.012032659724354744"
            ]
          },
          "metadata": {},
          "execution_count": 24
        }
      ]
    },
    {
      "cell_type": "code",
      "source": [
        "fig, ax = plt.subplots(figsize=(12, 5))\n",
        "sns.histplot(data=train_normal_re, label='Normal', kde=False, ax=ax, color='#330C2F')\n",
        "sns.histplot(data=train_abnormal_re, label='Abnormal', kde=False, ax=ax, color='#CBF3D2')\n",
        "ax.axvline(threshold, ls='-.', label='Threshold')\n",
        "ax.legend(loc='best', fontsize=20)\n",
        "ax.set_xlim([0, 0.1])\n",
        "fig.tight_layout()\n",
        "plt.title('Histogramm độ lỗi tái tạo của tập huấn luyện')\n",
        "plt.show()"
      ],
      "metadata": {
        "colab": {
          "base_uri": "https://localhost:8080/",
          "height": 386
        },
        "id": "vSxj1VqEnxgV",
        "outputId": "59f752b0-d0c5-4a18-df26-ba152043d492"
      },
      "execution_count": 22,
      "outputs": [
        {
          "output_type": "display_data",
          "data": {
            "image/png": "[encoded data removed]",
            "text/plain": [
              "<Figure size 864x360 with 1 Axes>"
            ]
          },
          "metadata": {
            "needs_background": "light"
          }
        }
      ]
    },
    {
      "cell_type": "code",
      "source": [
        "fig, ax = plt.subplots(figsize=(12, 5))\n",
        "sns.histplot(data=test_normal_re, label='Normal', kde=False, ax=ax, color='#330C2F')\n",
        "sns.histplot(data=test_abnormal_re, label='Abnormal', kde=False, ax=ax, color='#CBF3D2')\n",
        "ax.axvline(threshold, ls='-.', label='Threshold')\n",
        "ax.legend(loc='best', fontsize=20)\n",
        "ax.set_xlim([0, 0.1])\n",
        "fig.tight_layout()\n",
        "plt.title('Histogramm độ lỗi tái tạo của tập kiểm thử')\n",
        "plt.show()"
      ],
      "metadata": {
        "colab": {
          "base_uri": "https://localhost:8080/",
          "height": 386
        },
        "id": "mkhA3B9vrC_G",
        "outputId": "551c1d51-aab1-40d1-b74c-c65eba426be1"
      },
      "execution_count": 23,
      "outputs": [
        {
          "output_type": "display_data",
          "data": {
            "image/png": "[encoded data removed]",
            "text/plain": [
              "<Figure size 864x360 with 1 Axes>"
            ]
          },
          "metadata": {
            "needs_background": "light"
          }
        }
      ]
    },
    {
      "cell_type": "code",
      "source": [
        "train_label_predict = model.predict_class(train['data'], threshold)\n",
        "print('Độ chính xác tập huấn luyện', end=': ')\n",
        "accuracy_score(train['label'], train_label_predict)"
      ],
      "metadata": {
        "colab": {
          "base_uri": "https://localhost:8080/"
        },
        "id": "WAay-12wpSzM",
        "outputId": "f7cc75f4-2d73-49e9-dc1c-ccac9c4ab314"
      },
      "execution_count": 17,
      "outputs": [
        {
          "output_type": "stream",
          "name": "stdout",
          "text": [
            "Độ chính xác tập huấn luyện: "
          ]
        },
        {
          "output_type": "execute_result",
          "data": {
            "text/plain": [
              "0.9984838020845737"
            ]
          },
          "metadata": {},
          "execution_count": 17
        }
      ]
    },
    {
      "cell_type": "code",
      "source": [
        "test_label_predict = model.predict_class(test['data'], threshold)\n",
        "print('Độ chính xác tập kiểm thử', end=': ')\n",
        "accuracy_score(test['label'], test_label_predict)"
      ],
      "metadata": {
        "colab": {
          "base_uri": "https://localhost:8080/"
        },
        "id": "9M7FlW41pZ1b",
        "outputId": "0e815850-c8a4-4c44-a352-2c5b6bf329aa"
      },
      "execution_count": 18,
      "outputs": [
        {
          "output_type": "stream",
          "name": "stdout",
          "text": [
            "Độ chính xác tập kiểm thử: "
          ]
        },
        {
          "output_type": "execute_result",
          "data": {
            "text/plain": [
              "0.9585699077359829"
            ]
          },
          "metadata": {},
          "execution_count": 18
        }
      ]
    }
  ]
}